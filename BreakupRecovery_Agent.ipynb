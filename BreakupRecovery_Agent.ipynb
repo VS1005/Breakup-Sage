{
  "nbformat": 4,
  "nbformat_minor": 0,
  "metadata": {
    "colab": {
      "provenance": [],
      "gpuType": "T4"
    },
    "kernelspec": {
      "name": "python3",
      "display_name": "Python 3"
    },
    "language_info": {
      "name": "python"
    },
    "accelerator": "GPU"
  },
  "cells": [
    {
      "cell_type": "markdown",
      "source": [
        "**Your drive should have the Checkpoints and app.py file to run this on streamlit server successfully. Also focus on the name of the files while giving them in path, they should actually be present.**"
      ],
      "metadata": {
        "id": "3q7GePL4t_JV"
      }
    },
    {
      "cell_type": "code",
      "source": [
        "!pip install -q pyngrok streamlit transformers peft torch torchvision pillow accelerate bitsandbytes\n",
        "from google.colab import drive\n",
        "drive.mount('/content/drive')\n"
      ],
      "metadata": {
        "colab": {
          "base_uri": "https://localhost:8080/"
        },
        "id": "-xL7y9g2xqUh",
        "outputId": "df548a85-f876-46a1-c2a9-6c451322102b"
      },
      "execution_count": 1,
      "outputs": [
        {
          "output_type": "stream",
          "name": "stdout",
          "text": [
            "\u001b[2K   \u001b[90m━━━━━━━━━━━━━━━━━━━━━━━━━━━━━━━━━━━━━━━━\u001b[0m \u001b[32m10.0/10.0 MB\u001b[0m \u001b[31m89.4 MB/s\u001b[0m eta \u001b[36m0:00:00\u001b[0m\n",
            "\u001b[2K   \u001b[90m━━━━━━━━━━━━━━━━━━━━━━━━━━━━━━━━━━━━━━━━\u001b[0m \u001b[32m61.3/61.3 MB\u001b[0m \u001b[31m17.8 MB/s\u001b[0m eta \u001b[36m0:00:00\u001b[0m\n",
            "\u001b[2K   \u001b[90m━━━━━━━━━━━━━━━━━━━━━━━━━━━━━━━━━━━━━━━━\u001b[0m \u001b[32m6.9/6.9 MB\u001b[0m \u001b[31m126.0 MB/s\u001b[0m eta \u001b[36m0:00:00\u001b[0m\n",
            "\u001b[?25hMounted at /content/drive\n"
          ]
        }
      ]
    },
    {
      "cell_type": "markdown",
      "source": [
        "**Generate ngrok key by signing up at Ngrok and generating the Auth token. It is basically free of cost.**"
      ],
      "metadata": {
        "id": "pE3TDUrOtxWC"
      }
    },
    {
      "cell_type": "code",
      "source": [
        "# Colab cell B\n",
        "from pyngrok import ngrok\n",
        "import os, subprocess, time\n",
        "import psutil\n",
        "\n",
        "APP_PATH = \"/content/drive/MyDrive/app.py\"\n",
        "if not os.path.exists(APP_PATH):\n",
        "    raise FileNotFoundError(f\"app.py not found at: {APP_PATH}\")\n",
        "ngrok_token = input(\"Paste your ngrok authtoken (it will not be shown): \").strip()\n",
        "ngrok.set_auth_token(ngrok_token)\n",
        "\n",
        "try:\n",
        "    ngrok.kill()\n",
        "except Exception:\n",
        "    pass\n",
        "for proc in psutil.process_iter(['pid', 'name', 'connections']):\n",
        "    try:\n",
        "        if proc.connections(kind='inet4'):\n",
        "            for conn in proc.connections(kind='inet4'):\n",
        "                if conn.laddr.port == 8501:\n",
        "                    print(f\"Killing process {proc.pid} using port 8501\")\n",
        "                    proc.kill()\n",
        "    except (psutil.NoSuchProcess, psutil.AccessDenied, psutil.ZombieProcess):\n",
        "        pass\n",
        "\n",
        "public_url = ngrok.connect(8501)\n",
        "print(\"ngrok public URL:\", public_url)\n",
        "\n",
        "os.environ[\"STREAMLIT_SERVER_HEADLESS\"] = \"true\"\n",
        "cmd = [\"streamlit\", \"run\", APP_PATH, \"--server.port\", \"8501\", \"--server.headless\", \"true\"]\n",
        "proc = subprocess.Popen(cmd, stdout=subprocess.PIPE, stderr=subprocess.STDOUT, preexec_fn=os.setsid, text=True)\n",
        "print(\"Streamlit started, pid:\", proc.pid)\n",
        "print(\"Current directory:\", os.getcwd())\n",
        "\n",
        "start = time.time()\n",
        "while time.time() - start < 10:\n",
        "    line = proc.stdout.readline()\n",
        "    if line:\n",
        "        print(line, end=\"\")\n",
        "print(\"Open the ngrok URL above in your browser.\")"
      ],
      "metadata": {
        "colab": {
          "base_uri": "https://localhost:8080/"
        },
        "id": "hWuBBQtMyB0Q",
        "outputId": "7dded362-0641-4913-f61b-689c1caa0dfc"
      },
      "execution_count": 2,
      "outputs": [
        {
          "output_type": "stream",
          "name": "stdout",
          "text": [
            "Paste your ngrok authtoken (it will not be shown): 32f0uVPPip0CqzlSEYRK79ls7KX_3ZgDDRL9jne9T3nGf2qhv\n",
            "ngrok public URL: NgrokTunnel: \"https://f0ba067fb105.ngrok-free.app\" -> \"http://localhost:8501\"\n",
            "Streamlit started, pid: 1498\n",
            "Current directory: /content\n",
            "\n",
            "Collecting usage statistics. To deactivate, set browser.gatherUsageStats to false.\n",
            "\n",
            "\n",
            "  You can now view your Streamlit app in your browser.\n",
            "\n",
            "  Local URL: http://localhost:8501\n",
            "  Network URL: http://172.28.0.12:8501\n",
            "  External URL: http://34.186.14.166:8501\n",
            "\n",
            "2025-09-17 11:50:20.795265: E external/local_xla/xla/stream_executor/cuda/cuda_fft.cc:467] Unable to register cuFFT factory: Attempting to register factory for plugin cuFFT when one has already been registered\n",
            "Open the ngrok URL above in your browser.\n"
          ]
        }
      ]
    },
    {
      "cell_type": "code",
      "source": [],
      "metadata": {
        "id": "UN9TFctL0_J8"
      },
      "execution_count": null,
      "outputs": []
    }
  ]
}